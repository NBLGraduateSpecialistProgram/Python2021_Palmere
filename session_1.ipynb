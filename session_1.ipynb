{
 "cells": [
  {
   "cell_type": "markdown",
   "id": "steady-houston",
   "metadata": {},
   "source": [
    "### Introduction to Python\n",
    "#### Robert Palmere, 2021\n",
    "#### Email: rdp135@chem.rutgers.edu\n",
    "--------------------------------------------------------------------\n",
    "#### Topics:\n",
    "    * str\n",
    "    * int, float, complex\n",
    "    * casting\n",
    "    * range, tuple, list, dict, set, frozenset\n",
    "    * bool\n",
    "    * for loops\n",
    "    * while loops\n",
    "    * conditional statements\n",
    "    * methods\n",
    "    * lambda methods\n",
    "    * recursion\n",
    "    * *args and **kwargs"
   ]
  },
  {
   "cell_type": "markdown",
   "id": "loose-hearing",
   "metadata": {},
   "source": [
    "Programming Tips\n",
    "1. Take your time if you can afford it\n",
    "2. Take breaks\n",
    "3. View program errors as opportunities for learning"
   ]
  },
  {
   "cell_type": "code",
   "execution_count": null,
   "id": "virtual-nigeria",
   "metadata": {},
   "outputs": [],
   "source": [
    "''' Comments are require \"#\" before them and will be ignored by the Python interpreter '''\n",
    "\n",
    "print(\"Hello World!\")\n",
    "# print(\"Hello World!\")"
   ]
  },
  {
   "cell_type": "markdown",
   "id": "large-allah",
   "metadata": {},
   "source": [
    "##### \"Hello World\" is known as a string which is a sequence (or string) of characters.\n",
    "##### Let's assign a variable to this string."
   ]
  },
  {
   "cell_type": "code",
   "execution_count": null,
   "id": "vulnerable-cattle",
   "metadata": {},
   "outputs": [],
   "source": [
    "x = \"Hello World!\"\n",
    "type(x)"
   ]
  },
  {
   "cell_type": "markdown",
   "id": "environmental-tobago",
   "metadata": {},
   "source": [
    "##### We can also define the variable x as a string using single quotes."
   ]
  },
  {
   "cell_type": "code",
   "execution_count": null,
   "id": "metallic-header",
   "metadata": {},
   "outputs": [],
   "source": [
    "x = 'Hello World!'\n",
    "type(x)"
   ]
  },
  {
   "cell_type": "markdown",
   "id": "associate-sympathy",
   "metadata": {},
   "source": [
    "##### Why might we use one over the other?"
   ]
  },
  {
   "cell_type": "code",
   "execution_count": null,
   "id": "dutch-fault",
   "metadata": {},
   "outputs": [],
   "source": [
    "x = \"The variable 'x' has been assigned.\"\n",
    "print(x); type(x)\n",
    "\n",
    "#x = \"The variable \"x\" has been assigned.\""
   ]
  },
  {
   "cell_type": "markdown",
   "id": "bored-agency",
   "metadata": {},
   "source": [
    "##### Syntax error in this case: The quoted \"x\" or 'x' should be opposite of those used to encompass the string. How might we fix this?\n",
    "\n",
    "##### What about numeric types? (int, float, complex)"
   ]
  },
  {
   "cell_type": "code",
   "execution_count": null,
   "id": "associate-generation",
   "metadata": {},
   "outputs": [],
   "source": [
    "x = 1 # Assigning x as integer 1\n",
    "print(x, type(x).__name__)\n",
    "\n",
    "x = int(1) # Assigning x as integer 1 using casting\n",
    "print(x, type(x).__name__)\n",
    "\n",
    "x = 1.0\n",
    "print(x, type(x).__name__)\n",
    "\n",
    "x = float(1.0)\n",
    "print(x, type(x).__name__)\n",
    "\n",
    "x = 1+2j\n",
    "print(x, type(x).__name__)\n",
    "\n",
    "x = complex(1, 2)\n",
    "print(x, type(x).__name__)"
   ]
  },
  {
   "cell_type": "markdown",
   "id": "catholic-spectrum",
   "metadata": {},
   "source": [
    "##### We will address classes and the use of special methods in future sessions. \n",
    "##### This was used here to avoid the following output (FYI)."
   ]
  },
  {
   "cell_type": "code",
   "execution_count": null,
   "id": "statewide-track",
   "metadata": {},
   "outputs": [],
   "source": [
    "print(x, type(x))"
   ]
  },
  {
   "cell_type": "markdown",
   "id": "allied-reserve",
   "metadata": {},
   "source": [
    "##### Perhaps we want our variable x to be a range of numbers rather than a single number."
   ]
  },
  {
   "cell_type": "code",
   "execution_count": null,
   "id": "confused-learning",
   "metadata": {},
   "outputs": [],
   "source": [
    "x = range(6)\n",
    "print(x, type(x).__name__)"
   ]
  },
  {
   "cell_type": "markdown",
   "id": "representative-basis",
   "metadata": {},
   "source": [
    "##### x is now data type \"range\" with values from 0 to 6.\n",
    "##### Python iteration starts from 0 (i.e. 0, 1, 2, 3, ... stop_value)"
   ]
  },
  {
   "cell_type": "code",
   "execution_count": null,
   "id": "running-answer",
   "metadata": {},
   "outputs": [],
   "source": [
    "print(x.start); print(x.step); print(x.stop)"
   ]
  },
  {
   "cell_type": "markdown",
   "id": "binding-taxation",
   "metadata": {},
   "source": [
    "##### Another way to accesss the values of range is via indexing."
   ]
  },
  {
   "cell_type": "code",
   "execution_count": null,
   "id": "uniform-canyon",
   "metadata": {},
   "outputs": [],
   "source": [
    "print(x[0])\n",
    "print(x[1])\n",
    "print(x[-1])"
   ]
  },
  {
   "cell_type": "markdown",
   "id": "latest-shakespeare",
   "metadata": {},
   "source": [
    "##### If x[-1] is the last value in range(5) why is it not equal to x.stop?\n",
    "##### Range(x) iterates 5 times from 0 making the final number equal to 4."
   ]
  },
  {
   "cell_type": "code",
   "execution_count": null,
   "id": "aboriginal-slovenia",
   "metadata": {},
   "outputs": [],
   "source": [
    "print(x[-2]) # Second from last"
   ]
  },
  {
   "cell_type": "markdown",
   "id": "immune-processor",
   "metadata": {},
   "source": [
    "##### Can also use index slicing: [start:end:step]"
   ]
  },
  {
   "cell_type": "code",
   "execution_count": null,
   "id": "sporting-saturn",
   "metadata": {},
   "outputs": [],
   "source": [
    "y = x[0:6:2]\n",
    "print(y.start, y.step, y.stop)\n",
    "print(y[0], y[1], y[-1])"
   ]
  },
  {
   "cell_type": "markdown",
   "id": "cross-feature",
   "metadata": {},
   "source": [
    "##### The same type of indexing can be used with containers"
   ]
  },
  {
   "cell_type": "code",
   "execution_count": null,
   "id": "forced-adams",
   "metadata": {},
   "outputs": [],
   "source": [
    "string = \"Hello World!\"\n",
    "string[0:1] # First letter (start 0 end at 1 excluding index 1)"
   ]
  },
  {
   "cell_type": "code",
   "execution_count": null,
   "id": "defensive-separate",
   "metadata": {},
   "outputs": [],
   "source": [
    "string[0:-3:2] # First letter and every other letter until 3rd to last letter"
   ]
  },
  {
   "cell_type": "code",
   "execution_count": null,
   "id": "happy-hearts",
   "metadata": {},
   "outputs": [],
   "source": [
    "string[-1:5:-1] # Start from last letter and iterate backwards by 1 until 5th character reach (left to right)"
   ]
  },
  {
   "cell_type": "code",
   "execution_count": null,
   "id": "national-precipitation",
   "metadata": {},
   "outputs": [],
   "source": [
    "string[:] # Default [0:-1:1] -- 0 to end by step of a single index value"
   ]
  },
  {
   "cell_type": "markdown",
   "id": "loose-ethnic",
   "metadata": {},
   "source": [
    "#### **Lists**: \n",
    "* 1.) Ordered (indexed) \n",
    "* 2.) Mutable (can be changed) \n",
    "* 3.) Do not need to be unique (can hold repeats)\n",
    "* 4.) Can hold multiple data types\n",
    "\n",
    "##### lists are declared using \"[]\" brackets encompassing comma-separated elements."
   ]
  },
  {
   "cell_type": "code",
   "execution_count": null,
   "id": "muslim-sympathy",
   "metadata": {},
   "outputs": [],
   "source": [
    "x = [1, 2.2, \"Hello World!\"]\n",
    "print(x, type(x).__name__)"
   ]
  },
  {
   "cell_type": "markdown",
   "id": "romantic-warrant",
   "metadata": {},
   "source": [
    "##### 1.) Ordered"
   ]
  },
  {
   "cell_type": "code",
   "execution_count": null,
   "id": "exposed-london",
   "metadata": {},
   "outputs": [],
   "source": [
    "print(x[0])\n",
    "print(x[-1])"
   ]
  },
  {
   "cell_type": "markdown",
   "id": "super-easter",
   "metadata": {},
   "source": [
    "##### 2.) Mutable\n",
    "   * Remove elements at specific index - pop() / del\n",
    "   * Remove element given the element - remove()\n",
    "   * Add elements at specific index - insert()\n",
    "   * Append elements - append()"
   ]
  },
  {
   "cell_type": "code",
   "execution_count": null,
   "id": "unlikely-alpha",
   "metadata": {},
   "outputs": [],
   "source": [
    "print(x)"
   ]
  },
  {
   "cell_type": "code",
   "execution_count": null,
   "id": "familiar-backing",
   "metadata": {},
   "outputs": [],
   "source": [
    "x.pop(0) # Remove first element and return the removed element\n",
    "print(x)"
   ]
  },
  {
   "cell_type": "code",
   "execution_count": null,
   "id": "developing-module",
   "metadata": {},
   "outputs": [],
   "source": [
    "print(x) # 1 removed from the list"
   ]
  },
  {
   "cell_type": "code",
   "execution_count": null,
   "id": "bound-grain",
   "metadata": {},
   "outputs": [],
   "source": [
    "del x[0] # Remove the next element (2.2) but do not return the removed element\n",
    "print(x)"
   ]
  },
  {
   "cell_type": "code",
   "execution_count": null,
   "id": "instant-principal",
   "metadata": {},
   "outputs": [],
   "source": [
    "x.insert(0, 2.2) # Insert 2.2 and 1 at index 0 (beginning of the list)\n",
    "x.insert(0, 1)\n",
    "print(x)"
   ]
  },
  {
   "cell_type": "code",
   "execution_count": null,
   "id": "revolutionary-substance",
   "metadata": {},
   "outputs": [],
   "source": [
    "x.append(4+2j) # Append complex element to end of the list\n",
    "print(x)"
   ]
  },
  {
   "cell_type": "markdown",
   "id": "smoking-coach",
   "metadata": {},
   "source": [
    "##### 3.) Do not need to have unique elements"
   ]
  },
  {
   "cell_type": "code",
   "execution_count": null,
   "id": "lasting-companion",
   "metadata": {},
   "outputs": [],
   "source": [
    "y = [1, 1, 1, 2, 2, 3]\n",
    "print(y)"
   ]
  },
  {
   "cell_type": "markdown",
   "id": "suffering-dialogue",
   "metadata": {},
   "source": [
    "##### We can use the list() function to cast elements of an iterable as a list (e.g. string, range())."
   ]
  },
  {
   "cell_type": "code",
   "execution_count": null,
   "id": "minute-supervisor",
   "metadata": {},
   "outputs": [],
   "source": [
    "x = list(\"Hello World\")\n",
    "print(x)"
   ]
  },
  {
   "cell_type": "code",
   "execution_count": null,
   "id": "conventional-salad",
   "metadata": {},
   "outputs": [],
   "source": [
    "x = list(range(6))\n",
    "print(x)"
   ]
  },
  {
   "cell_type": "markdown",
   "id": "color-sperm",
   "metadata": {},
   "source": [
    "##### **Tuples**: Similar to lists but **NOT** mutable.\n",
    "\n",
    "##### Tuples are declared using \"()\" parenthesis encompassing comma-separated elements"
   ]
  },
  {
   "cell_type": "code",
   "execution_count": null,
   "id": "fossil-stockholm",
   "metadata": {},
   "outputs": [],
   "source": [
    "x = (1, 2.2, \"Hello World!\")\n",
    "print(x)"
   ]
  },
  {
   "cell_type": "code",
   "execution_count": null,
   "id": "breeding-institute",
   "metadata": {},
   "outputs": [],
   "source": [
    "try:\n",
    "    x.pop(0)\n",
    "except:\n",
    "    print(f'x is type {type(x).__name__} and hence immutable.')\n",
    "    "
   ]
  },
  {
   "cell_type": "code",
   "execution_count": null,
   "id": "informed-joshua",
   "metadata": {},
   "outputs": [],
   "source": [
    "print(x[0])"
   ]
  },
  {
   "cell_type": "markdown",
   "id": "bigger-photography",
   "metadata": {},
   "source": [
    "##### We can use the tuple() function to cast elements of an iterable as a tuple (e.g. string, range())."
   ]
  },
  {
   "cell_type": "code",
   "execution_count": null,
   "id": "powered-casting",
   "metadata": {},
   "outputs": [],
   "source": [
    "x = tuple(\"Hellow World\")\n",
    "print(x)"
   ]
  },
  {
   "cell_type": "code",
   "execution_count": null,
   "id": "dangerous-desktop",
   "metadata": {},
   "outputs": [],
   "source": [
    "x = tuple(range(6))\n",
    "print(x)"
   ]
  },
  {
   "cell_type": "markdown",
   "id": "external-rebecca",
   "metadata": {},
   "source": [
    "##### **Sets**:\n",
    "\n",
    "1. Not ordered (cannot be accessed by index or keys)\n",
    "2. Mutable\n",
    "3. Elements must be unique\n",
    "4. Can hold mutiple data types\n",
    "\n",
    "##### Sets are declared using \"{}\" brackets encompassing comma-separated elements"
   ]
  },
  {
   "cell_type": "code",
   "execution_count": null,
   "id": "abandoned-vienna",
   "metadata": {},
   "outputs": [],
   "source": [
    "x = {1, 2, 3}\n",
    "print(x)"
   ]
  },
  {
   "cell_type": "code",
   "execution_count": null,
   "id": "precious-rochester",
   "metadata": {},
   "outputs": [],
   "source": [
    "x = {1, 1, 2, 3} # Duplicates removed automatically\n",
    "print(x)"
   ]
  },
  {
   "cell_type": "code",
   "execution_count": null,
   "id": "sixth-legend",
   "metadata": {},
   "outputs": [],
   "source": [
    "x = set(\"Hello World\") # Notice it prints as unordered\n",
    "print(x)"
   ]
  },
  {
   "cell_type": "markdown",
   "id": "ahead-visiting",
   "metadata": {},
   "source": [
    "But \"order\" needs to be determined initially by Python somehow. Check out this [Stack Exchange](https://stackoverflow.com/questions/12165200/order-of-unordered-python-sets) page for more information."
   ]
  },
  {
   "cell_type": "markdown",
   "id": "fuzzy-syntax",
   "metadata": {},
   "source": [
    "##### 2.) Mutable\n",
    "   * Remove elements at specific index - pop()\n",
    "   * Remove element given the element - remove()\n",
    "   * Add elements at specific index - add()\n",
    "   * Update the set - update()\n",
    "   * clear the set - clear()\n"
   ]
  },
  {
   "cell_type": "code",
   "execution_count": null,
   "id": "charged-enhancement",
   "metadata": {},
   "outputs": [],
   "source": [
    "print(x)"
   ]
  },
  {
   "cell_type": "code",
   "execution_count": null,
   "id": "white-tobacco",
   "metadata": {},
   "outputs": [],
   "source": [
    "x.pop() # Removes the first element of the set and returns the removed element"
   ]
  },
  {
   "cell_type": "code",
   "execution_count": null,
   "id": "passive-latin",
   "metadata": {},
   "outputs": [],
   "source": [
    "x.remove('H') # Removes the element given as an argument but does not return the element\n",
    "print(x)"
   ]
  },
  {
   "cell_type": "code",
   "execution_count": null,
   "id": "stable-coordinator",
   "metadata": {},
   "outputs": [],
   "source": [
    "x.clear() # Clears the set rendering \"x\" as an empty set\n",
    "print(x)"
   ]
  },
  {
   "cell_type": "code",
   "execution_count": null,
   "id": "mexican-amber",
   "metadata": {},
   "outputs": [],
   "source": [
    "x.update(range(6)) # Updates the set with new values 0-5 using range()\n",
    "print(x)"
   ]
  },
  {
   "cell_type": "code",
   "execution_count": null,
   "id": "persistent-interview",
   "metadata": {},
   "outputs": [],
   "source": [
    "x.update(\"Hello World\") # Appends unique values to the set\n",
    "print(x)"
   ]
  },
  {
   "cell_type": "code",
   "execution_count": null,
   "id": "specific-passenger",
   "metadata": {},
   "outputs": [],
   "source": [
    "x = set(range(6)) # can also use the set() function to declare a set\n",
    "print(x)"
   ]
  },
  {
   "cell_type": "markdown",
   "id": "ahead-hayes",
   "metadata": {},
   "source": [
    "##### Frozenset is a set that is immutable."
   ]
  },
  {
   "cell_type": "code",
   "execution_count": null,
   "id": "civic-creature",
   "metadata": {},
   "outputs": [],
   "source": [
    "x = frozenset(range(6))\n",
    "print(x)"
   ]
  },
  {
   "cell_type": "markdown",
   "id": "affecting-effort",
   "metadata": {},
   "source": [
    "##### Both sets and frozensets have unique, mathematically relevant, functionality."
   ]
  },
  {
   "cell_type": "code",
   "execution_count": null,
   "id": "nominated-suicide",
   "metadata": {},
   "outputs": [],
   "source": [
    "x = set(range(6))\n",
    "y = set(range(10))\n",
    "print(x, y)"
   ]
  },
  {
   "cell_type": "code",
   "execution_count": null,
   "id": "russian-league",
   "metadata": {},
   "outputs": [],
   "source": [
    "x.union(y) # Unify elements between x and y removing any elements which overlap between the two sets"
   ]
  },
  {
   "cell_type": "code",
   "execution_count": null,
   "id": "collected-distance",
   "metadata": {},
   "outputs": [],
   "source": [
    "x.intersection(y) # Return a set containing elements that both x and y share"
   ]
  },
  {
   "cell_type": "code",
   "execution_count": null,
   "id": "preceding-saturn",
   "metadata": {},
   "outputs": [],
   "source": [
    "x.difference(y) # x is a subset of y so returns an empty set"
   ]
  },
  {
   "cell_type": "code",
   "execution_count": null,
   "id": "literary-there",
   "metadata": {},
   "outputs": [],
   "source": [
    "y.difference(x) # y is a superset of x so returns the elements which x does not hold"
   ]
  },
  {
   "cell_type": "markdown",
   "id": "informational-defense",
   "metadata": {},
   "source": [
    "##### Boolean values are binary and can be True or False. The bool() function will try to interpret its argument as either True or False. 0 = False, >0 = True. If the value exists it will return True."
   ]
  },
  {
   "cell_type": "markdown",
   "id": "ideal-employer",
   "metadata": {},
   "source": [
    "x = 0\n",
    "bool(x)"
   ]
  },
  {
   "cell_type": "code",
   "execution_count": null,
   "id": "royal-threat",
   "metadata": {},
   "outputs": [],
   "source": [
    "x = 1\n",
    "bool(x)"
   ]
  },
  {
   "cell_type": "code",
   "execution_count": null,
   "id": "hazardous-louisiana",
   "metadata": {},
   "outputs": [],
   "source": [
    "x = True\n",
    "type(x)"
   ]
  },
  {
   "cell_type": "code",
   "execution_count": null,
   "id": "surprising-perception",
   "metadata": {},
   "outputs": [],
   "source": [
    "x = False\n",
    "type(x)"
   ]
  },
  {
   "cell_type": "code",
   "execution_count": null,
   "id": "medium-industry",
   "metadata": {},
   "outputs": [],
   "source": [
    "x = \"Hello World\"\n",
    "bool(x)"
   ]
  },
  {
   "cell_type": "code",
   "execution_count": null,
   "id": "isolated-world",
   "metadata": {},
   "outputs": [],
   "source": [
    "x = \"\"\n",
    "bool(x)"
   ]
  },
  {
   "cell_type": "code",
   "execution_count": null,
   "id": "exclusive-modification",
   "metadata": {},
   "outputs": [],
   "source": [
    "x = None\n",
    "bool(x)"
   ]
  },
  {
   "cell_type": "markdown",
   "id": "pending-puzzle",
   "metadata": {},
   "source": [
    "#### Dictionaries \n",
    "\n",
    "Unlike sequences, which are indexed by a range of numbers, dictionaries are indexed by keys, which can be any immutable type."
   ]
  },
  {
   "cell_type": "code",
   "execution_count": null,
   "id": "straight-tourist",
   "metadata": {},
   "outputs": [],
   "source": [
    "d = {1 : 'a', 2 : 'b', 3 : 'c'}\n",
    "print(type(d).__name__, d)"
   ]
  },
  {
   "cell_type": "code",
   "execution_count": null,
   "id": "combined-royal",
   "metadata": {},
   "outputs": [],
   "source": [
    "print(d[1]) # using 1 as the key, we access its associated value 'a'"
   ]
  },
  {
   "cell_type": "code",
   "execution_count": null,
   "id": "searching-hamilton",
   "metadata": {},
   "outputs": [],
   "source": [
    "d.keys() # returns the available keys of the dict"
   ]
  },
  {
   "cell_type": "code",
   "execution_count": null,
   "id": "mechanical-royal",
   "metadata": {},
   "outputs": [],
   "source": [
    "d.values() # returns the available values of the dict"
   ]
  },
  {
   "cell_type": "markdown",
   "id": "maritime-maldives",
   "metadata": {},
   "source": [
    "#### For loops: used to iterate through an iterator (or more generally a data structure)\n",
    "\n",
    "Syntax: $ for {variable indicating the element} in {iterator}: {do something}"
   ]
  },
  {
   "cell_type": "code",
   "execution_count": null,
   "id": "coupled-hours",
   "metadata": {},
   "outputs": [],
   "source": [
    "x = list(range(6))\n",
    "print(x)"
   ]
  },
  {
   "cell_type": "code",
   "execution_count": null,
   "id": "gross-lyric",
   "metadata": {},
   "outputs": [],
   "source": [
    "for i in x: print(i)"
   ]
  },
  {
   "cell_type": "code",
   "execution_count": null,
   "id": "ruled-bundle",
   "metadata": {},
   "outputs": [],
   "source": [
    "x[0] in x # i = x[0]\n",
    "x[1] in x # i = x[1] returns True and carries out print() goes to the next element i = x[2]"
   ]
  },
  {
   "cell_type": "markdown",
   "id": "atomic-brighton",
   "metadata": {},
   "source": [
    "##### Lists can be generated using a for loop"
   ]
  },
  {
   "cell_type": "code",
   "execution_count": null,
   "id": "established-prize",
   "metadata": {},
   "outputs": [],
   "source": [
    "myList = []\n",
    "for i in x: # Notice that the scope of the for loop is defined by the indent (block)\n",
    "    myList.append(i)\n",
    "print(myList)"
   ]
  },
  {
   "cell_type": "markdown",
   "id": "foster-victorian",
   "metadata": {},
   "source": [
    "##### The same list can be generated using list comprehension"
   ]
  },
  {
   "cell_type": "code",
   "execution_count": null,
   "id": "novel-telescope",
   "metadata": {},
   "outputs": [],
   "source": [
    "myList = [i for i in x] \n",
    "print(myList)"
   ]
  },
  {
   "cell_type": "markdown",
   "id": "everyday-purple",
   "metadata": {},
   "source": [
    "##### Loops can be nested within one another"
   ]
  },
  {
   "cell_type": "code",
   "execution_count": null,
   "id": "fitted-fifty",
   "metadata": {},
   "outputs": [],
   "source": [
    "import time\n",
    "myList = []\n",
    "for i in x:\n",
    "    for j in x:\n",
    "        myList.append((i, j))\n",
    "        time.sleep(.25)\n",
    "        print('i =', i, 'j =', j, end='\\r')"
   ]
  },
  {
   "cell_type": "code",
   "execution_count": null,
   "id": "excess-fashion",
   "metadata": {},
   "outputs": [],
   "source": [
    "print(myList)"
   ]
  },
  {
   "cell_type": "markdown",
   "id": "strategic-experiment",
   "metadata": {},
   "source": [
    "##### Loops nested using list comprehension"
   ]
  },
  {
   "cell_type": "code",
   "execution_count": null,
   "id": "characteristic-bachelor",
   "metadata": {},
   "outputs": [],
   "source": [
    "myList = [(i, j) for i in x for j in x]\n",
    "print(myList)"
   ]
  },
  {
   "cell_type": "markdown",
   "id": "timely-trademark",
   "metadata": {},
   "source": [
    "##### Conditional Statements"
   ]
  },
  {
   "cell_type": "code",
   "execution_count": null,
   "id": "suburban-wildlife",
   "metadata": {},
   "outputs": [],
   "source": [
    "1 < 2 # Less than"
   ]
  },
  {
   "cell_type": "code",
   "execution_count": null,
   "id": "federal-writing",
   "metadata": {},
   "outputs": [],
   "source": [
    "1 > 2 # Greater than"
   ]
  },
  {
   "cell_type": "code",
   "execution_count": null,
   "id": "informal-conducting",
   "metadata": {},
   "outputs": [],
   "source": [
    "1 <= 2 # Less than or equal\n",
    "2 >= 1 # Greater than or equal"
   ]
  },
  {
   "cell_type": "code",
   "execution_count": null,
   "id": "lucky-relaxation",
   "metadata": {},
   "outputs": [],
   "source": [
    "1 == 1 # Equal"
   ]
  },
  {
   "cell_type": "code",
   "execution_count": null,
   "id": "paperback-ribbon",
   "metadata": {},
   "outputs": [],
   "source": [
    "(1 == 1) and (2 == 2) # Biconditional statement (both must be True)"
   ]
  },
  {
   "cell_type": "code",
   "execution_count": null,
   "id": "dominant-windsor",
   "metadata": {},
   "outputs": [],
   "source": [
    "(1 == 1) or (2 == 2) # Check if one or the two are True"
   ]
  },
  {
   "cell_type": "code",
   "execution_count": null,
   "id": "formal-maker",
   "metadata": {},
   "outputs": [],
   "source": [
    "if (1 == 1) or (2 == 1):\n",
    "    print('1 == 1')"
   ]
  },
  {
   "cell_type": "markdown",
   "id": "naked-wiring",
   "metadata": {},
   "source": [
    "#### While Loops + Conditional Statements"
   ]
  },
  {
   "cell_type": "code",
   "execution_count": null,
   "id": "vulnerable-wyoming",
   "metadata": {},
   "outputs": [],
   "source": [
    "x = 0\n",
    "b = True;\n",
    "while b == True:\n",
    "    x += 1\n",
    "    print(x, end='\\r')\n",
    "    if x == 10_000:\n",
    "        b = False"
   ]
  },
  {
   "cell_type": "markdown",
   "id": "romantic-mortality",
   "metadata": {},
   "source": [
    "#### Methods\n",
    "\n",
    "Syntax: $ def {function_name}(arg1, arg2): {do something}"
   ]
  },
  {
   "cell_type": "code",
   "execution_count": null,
   "id": "plastic-coordinate",
   "metadata": {},
   "outputs": [],
   "source": [
    "def add(x, y):\n",
    "    return x + y\n",
    "\n",
    "add(1, 2)"
   ]
  },
  {
   "cell_type": "markdown",
   "id": "eight-barrier",
   "metadata": {},
   "source": [
    "##### Example: Fibonacci series"
   ]
  },
  {
   "cell_type": "code",
   "execution_count": null,
   "id": "indonesian-johns",
   "metadata": {},
   "outputs": [],
   "source": [
    "def fibonacci(n):\n",
    "    '''\n",
    "    parameters: None\n",
    "    returns: list of first 10 fibonacci numbers\n",
    "    '''\n",
    "    result = []\n",
    "    for i in range(n):\n",
    "        if i < 2:\n",
    "            result.append(i)\n",
    "        else:\n",
    "            v = result[i-2] + result[i-1]\n",
    "            result.append(v)\n",
    "    return result\n",
    "\n",
    "fib = fibonacci(10)\n",
    "print(fib)"
   ]
  },
  {
   "cell_type": "markdown",
   "id": "impossible-absolute",
   "metadata": {},
   "source": [
    "##### Fibonacci series with recursion"
   ]
  },
  {
   "cell_type": "code",
   "execution_count": null,
   "id": "right-decrease",
   "metadata": {},
   "outputs": [],
   "source": [
    "def fib_recursion(n):\n",
    "    if n <= 1:\n",
    "        return n\n",
    "    else:\n",
    "        return (fib_recursion(n-1) + fib_recursion(n-2))\n",
    "\n",
    "for i in range(10):\n",
    "    f = fib_recursion(i)\n",
    "    print(f, end=' ')"
   ]
  },
  {
   "cell_type": "markdown",
   "id": "extensive-helen",
   "metadata": {},
   "source": [
    "#### A lambda function is a small anonymous function.\n",
    "\n",
    "A lambda function can take any number of arguments, but can only have one expression."
   ]
  },
  {
   "cell_type": "code",
   "execution_count": null,
   "id": "forced-ordinance",
   "metadata": {},
   "outputs": [],
   "source": [
    "square = lambda x : x**2\n",
    "square(2)"
   ]
  },
  {
   "cell_type": "markdown",
   "id": "suffering-classic",
   "metadata": {},
   "source": [
    "Multiple arguments can be passed to a lambda function as well"
   ]
  },
  {
   "cell_type": "code",
   "execution_count": null,
   "id": "indonesian-developer",
   "metadata": {},
   "outputs": [],
   "source": [
    "add = lambda a, b : a + b\n",
    "add(1, 1)"
   ]
  },
  {
   "cell_type": "markdown",
   "id": "southeast-helena",
   "metadata": {},
   "source": [
    "#### *Args and **Kwargs are useful if we do not know the number of arguments we will pass to our function."
   ]
  },
  {
   "cell_type": "markdown",
   "id": "million-shoulder",
   "metadata": {},
   "source": [
    "What do the \"*\" and \"**\" signify in python?"
   ]
  },
  {
   "cell_type": "code",
   "execution_count": null,
   "id": "manual-exception",
   "metadata": {},
   "outputs": [],
   "source": [
    "tpl = ('a', 'b', 'c') # Define a iterable (tuple)"
   ]
  },
  {
   "cell_type": "code",
   "execution_count": null,
   "id": "behind-practitioner",
   "metadata": {},
   "outputs": [],
   "source": [
    "print(tpl) # print the tuple"
   ]
  },
  {
   "cell_type": "code",
   "execution_count": null,
   "id": "local-matter",
   "metadata": {},
   "outputs": [],
   "source": [
    "print(*tpl) # print() knows to handles the tuple as multiple arguments to be printed space separated to the same line"
   ]
  },
  {
   "cell_type": "code",
   "execution_count": null,
   "id": "similar-description",
   "metadata": {},
   "outputs": [],
   "source": [
    "for i in tpl: print(i, end=\" \") # internally"
   ]
  },
  {
   "cell_type": "markdown",
   "id": "bottom-roulette",
   "metadata": {},
   "source": [
    "What about \"**kwargs\"? (KeyWord Args)"
   ]
  },
  {
   "cell_type": "code",
   "execution_count": null,
   "id": "metropolitan-chemistry",
   "metadata": {},
   "outputs": [],
   "source": [
    "print(**tpl) # No keyword"
   ]
  },
  {
   "cell_type": "code",
   "execution_count": null,
   "id": "physical-nudist",
   "metadata": {},
   "outputs": [],
   "source": [
    "d = {'a' : 1, 'b' : 2}"
   ]
  },
  {
   "cell_type": "code",
   "execution_count": null,
   "id": "different-providence",
   "metadata": {},
   "outputs": [],
   "source": [
    "print(*d.keys())"
   ]
  },
  {
   "cell_type": "code",
   "execution_count": null,
   "id": "cooked-hotel",
   "metadata": {},
   "outputs": [],
   "source": [
    "print(*d) # defaults to keys"
   ]
  },
  {
   "cell_type": "code",
   "execution_count": null,
   "id": "billion-prospect",
   "metadata": {},
   "outputs": [],
   "source": [
    "print(**d) # print() doesn't recognize **kwargs"
   ]
  },
  {
   "cell_type": "code",
   "execution_count": null,
   "id": "generic-landing",
   "metadata": {},
   "outputs": [],
   "source": [
    "def myfunction(**kwargs):\n",
    "    print(kwargs)"
   ]
  },
  {
   "cell_type": "code",
   "execution_count": null,
   "id": "random-ecuador",
   "metadata": {},
   "outputs": [],
   "source": [
    "myfunction(d) # *args not specified - assumed to be zero (d is a keyword argument)"
   ]
  },
  {
   "cell_type": "code",
   "execution_count": null,
   "id": "certain-cleaner",
   "metadata": {},
   "outputs": [],
   "source": [
    "myfunction(**d)"
   ]
  },
  {
   "cell_type": "markdown",
   "id": "thermal-flush",
   "metadata": {},
   "source": [
    "Example"
   ]
  },
  {
   "cell_type": "code",
   "execution_count": null,
   "id": "statewide-edward",
   "metadata": {},
   "outputs": [],
   "source": [
    "options = {'float' : lambda y : sum([float(x) for x in y]), \n",
    "           'str' : lambda y : ''.join([str(x) for x in y]) }\n",
    "\n",
    "# Options defined in a dictionary - lambdas allow keyword to be callable"
   ]
  },
  {
   "cell_type": "code",
   "execution_count": null,
   "id": "cardiovascular-listening",
   "metadata": {},
   "outputs": [],
   "source": [
    "def add_these(*args, **kwargs):\n",
    "    '''A function uising *args and **kwargs'''\n",
    "    if len(kwargs) == 0:\n",
    "        raise ValueError('No **options provided.')\n",
    "    else:\n",
    "        key_ = None\n",
    "        for key in kwargs.keys():\n",
    "            if key in args:\n",
    "                print(f\"Key found to be '{key}'.\")\n",
    "                key_ = key\n",
    "        args = list(args)\n",
    "        args.remove(key_)\n",
    "        return kwargs[key_](args)\n",
    "    "
   ]
  },
  {
   "cell_type": "code",
   "execution_count": null,
   "id": "objective-restaurant",
   "metadata": {},
   "outputs": [],
   "source": [
    "add_these(1, 2, 3, 'float')"
   ]
  },
  {
   "cell_type": "code",
   "execution_count": null,
   "id": "unexpected-reduction",
   "metadata": {},
   "outputs": [],
   "source": [
    "add_these(1, 2, 3, 'float', **options)"
   ]
  },
  {
   "cell_type": "code",
   "execution_count": null,
   "id": "associate-motivation",
   "metadata": {},
   "outputs": [],
   "source": [
    "add_these(1, 2, 3, 'str', **options)"
   ]
  }
 ],
 "metadata": {
  "kernelspec": {
   "display_name": "Python 3",
   "language": "python",
   "name": "python3"
  },
  "language_info": {
   "codemirror_mode": {
    "name": "ipython",
    "version": 3
   },
   "file_extension": ".py",
   "mimetype": "text/x-python",
   "name": "python",
   "nbconvert_exporter": "python",
   "pygments_lexer": "ipython3",
   "version": "3.9.1"
  }
 },
 "nbformat": 4,
 "nbformat_minor": 5
}
