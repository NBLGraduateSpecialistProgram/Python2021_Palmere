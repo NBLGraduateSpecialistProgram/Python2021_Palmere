{
 "cells": [
  {
   "cell_type": "markdown",
   "id": "assumed-bunny",
   "metadata": {},
   "source": [
    "### Inroduction to Python - Practice Problems\n",
    "#### Robert Palmere\n",
    "#### email: rdp135@chem.rutgers.edu\n",
    "--------------"
   ]
  },
  {
   "cell_type": "markdown",
   "id": "active-thriller",
   "metadata": {},
   "source": [
    "1. Use casting to change the variable x from type 'int' to 'float'. Print the type using the 'type()' function."
   ]
  },
  {
   "cell_type": "code",
   "execution_count": null,
   "id": "terminal-jimmy",
   "metadata": {},
   "outputs": [],
   "source": [
    "x = 2"
   ]
  },
  {
   "cell_type": "markdown",
   "id": "according-vitamin",
   "metadata": {},
   "source": [
    "2. Define a variable with a range of integers between 0 and 10. Display the first, fifth, and second to last elements of this range using indexing."
   ]
  },
  {
   "cell_type": "code",
   "execution_count": null,
   "id": "hundred-treasury",
   "metadata": {},
   "outputs": [],
   "source": []
  },
  {
   "cell_type": "markdown",
   "id": "enabling-characteristic",
   "metadata": {},
   "source": [
    "3. Generate a list of 10 evenly spaced floats between 0 and 1 using a for loop."
   ]
  },
  {
   "cell_type": "code",
   "execution_count": null,
   "id": "adolescent-remark",
   "metadata": {},
   "outputs": [],
   "source": []
  },
  {
   "cell_type": "markdown",
   "id": "exclusive-evaluation",
   "metadata": {},
   "source": [
    "4. Using a for loop and a conditional statement (if / else), generate a new list with only the odd floats."
   ]
  },
  {
   "cell_type": "code",
   "execution_count": null,
   "id": "young-fusion",
   "metadata": {},
   "outputs": [],
   "source": []
  },
  {
   "cell_type": "markdown",
   "id": "radio-questionnaire",
   "metadata": {},
   "source": [
    "5. Use list comprehension to generate a the same list described in 3."
   ]
  },
  {
   "cell_type": "markdown",
   "id": "optimum-virus",
   "metadata": {},
   "source": []
  },
  {
   "cell_type": "markdown",
   "id": "democratic-draft",
   "metadata": {},
   "source": [
    "6. Implement a while loop to write out \"Hello World!\" one letter at a time to the same line. It may be useful to 'import time' and access 'time.sleep(.25)' to slow down the output."
   ]
  },
  {
   "cell_type": "code",
   "execution_count": null,
   "id": "minimal-enough",
   "metadata": {},
   "outputs": [],
   "source": []
  },
  {
   "cell_type": "markdown",
   "id": "blank-arthritis",
   "metadata": {},
   "source": [
    "7. Write a function which returns the average and standard deviation of a list of numbers. Print the returned values of this function."
   ]
  },
  {
   "cell_type": "code",
   "execution_count": null,
   "id": "better-vietnam",
   "metadata": {},
   "outputs": [],
   "source": []
  },
  {
   "cell_type": "markdown",
   "id": "english-preparation",
   "metadata": {},
   "source": [
    "8. Write a lambda method which squares numbers and demonstrate it works by passing it the integer 2 as an argument."
   ]
  },
  {
   "cell_type": "code",
   "execution_count": null,
   "id": "systematic-replica",
   "metadata": {},
   "outputs": [],
   "source": []
  },
  {
   "cell_type": "markdown",
   "id": "sorted-registration",
   "metadata": {},
   "source": [
    "9. Sally, Mary, and Sue are students who have just finished their final exam for a Python course. Their scores are 90, 82, and 78 respectively. Write a Python dictionary for these data. Display Sally's score using the dictionary you defined."
   ]
  },
  {
   "cell_type": "code",
   "execution_count": null,
   "id": "presidential-complex",
   "metadata": {},
   "outputs": [],
   "source": []
  },
  {
   "cell_type": "markdown",
   "id": "facial-batch",
   "metadata": {},
   "source": [
    "10. Write a function which can accept **kwargs and returns a dictionary with only the names that start with \"S\" using the dictionary in 9. as its argument. "
   ]
  },
  {
   "cell_type": "code",
   "execution_count": null,
   "id": "decimal-clearing",
   "metadata": {},
   "outputs": [],
   "source": []
  }
 ],
 "metadata": {
  "kernelspec": {
   "display_name": "Python 3",
   "language": "python",
   "name": "python3"
  },
  "language_info": {
   "codemirror_mode": {
    "name": "ipython",
    "version": 3
   },
   "file_extension": ".py",
   "mimetype": "text/x-python",
   "name": "python",
   "nbconvert_exporter": "python",
   "pygments_lexer": "ipython3",
   "version": "3.9.1"
  }
 },
 "nbformat": 4,
 "nbformat_minor": 5
}
